{
 "cells": [
  {
   "cell_type": "markdown",
   "metadata": {
    "id": "xFCBbQ6WUKI5"
   },
   "source": [
    "# 加载谷歌云"
   ]
  },
  {
   "cell_type": "code",
   "execution_count": null,
   "metadata": {
    "id": "yF8x9g3_Nf3k"
   },
   "outputs": [],
   "source": [
    "from google.colab import drive\n",
    "\n",
    "drive.mount('/content/gdrive')"
   ]
  },
  {
   "cell_type": "code",
   "execution_count": null,
   "metadata": {
    "id": "wYkorvYdle8m"
   },
   "outputs": [],
   "source": [
    "! kaggle datasets download -d mateuszbuda/lgg-mri-segmentation"
   ]
  },
  {
   "cell_type": "code",
   "execution_count": null,
   "metadata": {
    "id": "E4Y4Y6kunDKp"
   },
   "outputs": [],
   "source": [
    "mkdir /root/.kaggle/"
   ]
  },
  {
   "cell_type": "code",
   "execution_count": null,
   "metadata": {
    "id": "MiKUeNtCzaRJ"
   },
   "outputs": [],
   "source": [
    "mv /content/kaggle.json /root/.kaggle/"
   ]
  },
  {
   "cell_type": "code",
   "execution_count": null,
   "metadata": {
    "id": "K47NuvXPzmRp"
   },
   "outputs": [],
   "source": [
    "! unzip /content/lgg-mri-segmentation.zip"
   ]
  },
  {
   "cell_type": "code",
   "execution_count": null,
   "metadata": {
    "execution": {
     "iopub.execute_input": "2022-05-07T15:57:20.134801Z",
     "iopub.status.busy": "2022-05-07T15:57:20.134470Z",
     "iopub.status.idle": "2022-05-07T15:57:35.129961Z",
     "shell.execute_reply": "2022-05-07T15:57:35.129015Z",
     "shell.execute_reply.started": "2022-05-07T15:57:20.134703Z"
    }
   },
   "outputs": [],
   "source": [
    "! pip install torchsummary"
   ]
  },
  {
   "cell_type": "code",
   "execution_count": null,
   "metadata": {
    "execution": {
     "iopub.execute_input": "2022-05-07T11:39:35.193841Z",
     "iopub.status.busy": "2022-05-07T11:39:35.193509Z",
     "iopub.status.idle": "2022-05-07T11:39:35.927775Z",
     "shell.execute_reply": "2022-05-07T11:39:35.926833Z",
     "shell.execute_reply.started": "2022-05-07T11:39:35.193788Z"
    }
   },
   "outputs": [],
   "source": [
    "! rm -rf *.txt"
   ]
  },
  {
   "cell_type": "markdown",
   "metadata": {
    "id": "oJR9d7QlYkit"
   },
   "source": [
    "# 加载包"
   ]
  },
  {
   "cell_type": "code",
   "execution_count": null,
   "metadata": {
    "execution": {
     "iopub.execute_input": "2022-05-07T15:57:35.133057Z",
     "iopub.status.busy": "2022-05-07T15:57:35.132730Z",
     "iopub.status.idle": "2022-05-07T15:57:37.664447Z",
     "shell.execute_reply": "2022-05-07T15:57:37.663654Z",
     "shell.execute_reply.started": "2022-05-07T15:57:35.133011Z"
    },
    "id": "dnhMsZadYkiu"
   },
   "outputs": [],
   "source": [
    "import os\n",
    "import numpy as np\n",
    "import pandas as pd\n",
    "import cv2 \n",
    "import matplotlib.pyplot as plt \n",
    "from glob import glob\n",
    "import torch\n",
    "import torch.nn.functional as F\n",
    "import torchvision.transforms.functional as ff\n",
    "import torchvision.transforms as transforms\n",
    "from torch import nn\n",
    "from torch import optim\n",
    "from torchvision import models\n",
    "from torchsummary import summary\n",
    "from torch.utils.data import Dataset, DataLoader\n",
    "from sklearn.metrics import confusion_matrix"
   ]
  },
  {
   "cell_type": "markdown",
   "metadata": {
    "id": "p8gKi0swTDS7"
   },
   "source": [
    "# 加载Dataset"
   ]
  },
  {
   "cell_type": "markdown",
   "metadata": {
    "id": "q3EBLU6DYkiu"
   },
   "source": [
    "## 生成pandas格式的列表"
   ]
  },
  {
   "cell_type": "code",
   "execution_count": null,
   "metadata": {
    "execution": {
     "iopub.execute_input": "2022-05-07T15:57:37.666332Z",
     "iopub.status.busy": "2022-05-07T15:57:37.666053Z",
     "iopub.status.idle": "2022-05-07T15:57:39.100346Z",
     "shell.execute_reply": "2022-05-07T15:57:39.099559Z",
     "shell.execute_reply.started": "2022-05-07T15:57:37.666295Z"
    },
    "id": "t-YaYL6XxBK2",
    "outputId": "37eaf915-4bfa-4845-d5b5-e49753f73cb2"
   },
   "outputs": [],
   "source": [
    "# 数据集路径\n",
    "# data_dir = \"/content/kaggle_3m\"   \n",
    "data_dir = \"../input/lgg-mri-segmentation/kaggle_3m\"\n",
    "\n",
    "# 生成mask和img的路径地址array\n",
    "images_dir = []\n",
    "masks_dir = []\n",
    "masks_dir = glob(data_dir + '/*/*_mask*')\n",
    "\n",
    "for i in masks_dir:\n",
    "    images_dir.append(i.replace('_mask',''))\n",
    "\n",
    "print(\"image的长度{}, image前两张{}\".format(len(images_dir), images_dir[:2]))\n",
    "print(\"mask的长度{}, mask前两张{}\".format(len(masks_dir), masks_dir[:2]))"
   ]
  },
  {
   "cell_type": "code",
   "execution_count": null,
   "metadata": {
    "execution": {
     "iopub.execute_input": "2022-05-07T15:57:39.102811Z",
     "iopub.status.busy": "2022-05-07T15:57:39.102515Z",
     "iopub.status.idle": "2022-05-07T15:57:39.128235Z",
     "shell.execute_reply": "2022-05-07T15:57:39.127449Z",
     "shell.execute_reply.started": "2022-05-07T15:57:39.102772Z"
    },
    "id": "8XWZPt8z0EbJ",
    "outputId": "038a4614-b135-4224-f149-e6c085378de4"
   },
   "outputs": [],
   "source": [
    "data = pd.DataFrame({'images':images_dir,'masks':masks_dir})\n",
    "data"
   ]
  },
  {
   "cell_type": "markdown",
   "metadata": {
    "id": "goplJYDqYkiw"
   },
   "source": [
    "## 可视化"
   ]
  },
  {
   "cell_type": "code",
   "execution_count": null,
   "metadata": {
    "execution": {
     "iopub.execute_input": "2022-05-07T15:57:39.130262Z",
     "iopub.status.busy": "2022-05-07T15:57:39.129752Z",
     "iopub.status.idle": "2022-05-07T15:57:40.753664Z",
     "shell.execute_reply": "2022-05-07T15:57:40.752884Z",
     "shell.execute_reply.started": "2022-05-07T15:57:39.130221Z"
    },
    "id": "9vPagO_B0tJ_",
    "outputId": "efb3636f-24d1-44c2-f15a-bc25e2175952"
   },
   "outputs": [],
   "source": [
    "# 可视化第\n",
    "pic_list=[265,895,95]\n",
    "for N in pic_list:\n",
    "    plt.figure(figsize=(10,10))\n",
    "    plt.subplot(1,3,1)\n",
    "    img = cv2.imread(data.images.iloc[N])\n",
    "    img = cv2.cvtColor(img, cv2.COLOR_BGR2RGB)\n",
    "    plt.title(\"original\")\n",
    "    plt.imshow(img)\n",
    "    plt.subplot(1,3,2)\n",
    "    msk=cv2.imread(data.masks.iloc[N])\n",
    "    msk = cv2.cvtColor(msk, cv2.COLOR_BGR2RGB)\n",
    "    plt.title(\"label\")\n",
    "    plt.imshow(msk)\n",
    "    plt.subplot(1,3,3)\n",
    "    plt.title(\"mask\")\n",
    "    plt.imshow(img)\n",
    "    plt.imshow(msk,alpha=0.5)"
   ]
  },
  {
   "cell_type": "code",
   "execution_count": null,
   "metadata": {
    "execution": {
     "iopub.execute_input": "2022-05-07T15:57:40.755076Z",
     "iopub.status.busy": "2022-05-07T15:57:40.754761Z",
     "iopub.status.idle": "2022-05-07T15:57:40.766039Z",
     "shell.execute_reply": "2022-05-07T15:57:40.764631Z",
     "shell.execute_reply.started": "2022-05-07T15:57:40.755027Z"
    },
    "id": "87WEBb5nYkiw"
   },
   "outputs": [],
   "source": [
    "a = cv2.imread(data.masks.iloc[95])\n",
    "a = cv2.cvtColor(a, cv2.COLOR_BGR2RGB)"
   ]
  },
  {
   "cell_type": "code",
   "execution_count": null,
   "metadata": {
    "execution": {
     "iopub.execute_input": "2022-05-07T15:57:40.768049Z",
     "iopub.status.busy": "2022-05-07T15:57:40.767709Z",
     "iopub.status.idle": "2022-05-07T15:57:40.778108Z",
     "shell.execute_reply": "2022-05-07T15:57:40.776224Z",
     "shell.execute_reply.started": "2022-05-07T15:57:40.768009Z"
    },
    "id": "M-C0sAYLYkix",
    "outputId": "e4698ffa-4111-476c-cf6e-561d16f64294"
   },
   "outputs": [],
   "source": [
    "print(a.shape)"
   ]
  },
  {
   "cell_type": "code",
   "execution_count": null,
   "metadata": {
    "execution": {
     "iopub.execute_input": "2022-05-07T15:57:40.779785Z",
     "iopub.status.busy": "2022-05-07T15:57:40.779480Z",
     "iopub.status.idle": "2022-05-07T15:57:40.807584Z",
     "shell.execute_reply": "2022-05-07T15:57:40.806037Z",
     "shell.execute_reply.started": "2022-05-07T15:57:40.779743Z"
    },
    "id": "a8OxX4211YWA",
    "outputId": "c54e60cb-e0c4-4a71-9dbb-0908dcbf7962"
   },
   "outputs": [],
   "source": [
    "# 查看值得分布\n",
    "msk=cv2.imread(data.masks.iloc[95])\n",
    "print(msk.shape)\n",
    "print(np.unique(msk))"
   ]
  },
  {
   "cell_type": "markdown",
   "metadata": {
    "id": "EfDKAKQFYkix"
   },
   "source": [
    "## 对label编码"
   ]
  },
  {
   "cell_type": "code",
   "execution_count": null,
   "metadata": {
    "execution": {
     "iopub.execute_input": "2022-05-07T15:57:40.815091Z",
     "iopub.status.busy": "2022-05-07T15:57:40.813452Z",
     "iopub.status.idle": "2022-05-07T15:57:40.829936Z",
     "shell.execute_reply": "2022-05-07T15:57:40.828682Z",
     "shell.execute_reply.started": "2022-05-07T15:57:40.815038Z"
    },
    "id": "Rei3FFd59yK5"
   },
   "outputs": [],
   "source": [
    "class LabelProcessor:\n",
    "    \"\"\"对标签图像的编码, 生成1通道的每个像素是类别的array\"\"\"\n",
    "\n",
    "    def __init__(self):\n",
    "        self.colormap = self.read_color_map()\n",
    "        self.cm2lbl = self.encode_label_pix(self.colormap)\n",
    "    \n",
    "    # 标签编码，返回 1通道 的 已编码的标签 eg: [0000000][0011000][0000000]\n",
    "    def encode_label_img(self, img):\n",
    "        data = np.array(img, dtype='int32')\n",
    "        idx = (data[:, :, 0] * 256 + data[:, :, 1]) * 256 + data[:, :, 2]\n",
    "        return np.array(self.cm2lbl[idx], dtype='int64')\n",
    "    \n",
    "    # 加载color map, eg: 第0个->黑色, 第1个->白色\n",
    "    @staticmethod\n",
    "    def read_color_map():  \n",
    "        colormap = []\n",
    "        colormap.append([0,0,0])\n",
    "        colormap.append([255,255,255])\n",
    "        return colormap\n",
    "    \n",
    "    # 标签编码，返回哈希表 eg: cm2lbl[0] = 0, cm2lbl[(255*256+255)*256+256] = 1\n",
    "    @staticmethod\n",
    "    def encode_label_pix(colormap):     \n",
    "        cm2lbl = np.zeros(256 ** 3)\n",
    "        for i, cm in enumerate(colormap):\n",
    "            cm2lbl[(cm[0] * 256 + cm[1]) * 256 + cm[2]] = i\n",
    "        return cm2lbl"
   ]
  },
  {
   "cell_type": "markdown",
   "metadata": {
    "id": "V9coh09UYkiy"
   },
   "source": [
    "## 构建pytorch dataset"
   ]
  },
  {
   "cell_type": "code",
   "execution_count": null,
   "metadata": {
    "execution": {
     "iopub.execute_input": "2022-05-07T15:57:40.839957Z",
     "iopub.status.busy": "2022-05-07T15:57:40.837074Z",
     "iopub.status.idle": "2022-05-07T15:57:40.856550Z",
     "shell.execute_reply": "2022-05-07T15:57:40.855462Z",
     "shell.execute_reply.started": "2022-05-07T15:57:40.839911Z"
    },
    "id": "SOUhRHHc9zBu"
   },
   "outputs": [],
   "source": [
    "class MRIDataset(Dataset):\n",
    "    \"\"\"传入pandas格式 eg: img_path = pandas[\"image\"]\"\"\"\n",
    "    \n",
    "    def __init__(self, img_path, label_path):\n",
    "        # 读入图片和标签路径, 传入pandas格式 eg: img_path = pandas[\"image\"]\n",
    "        if not isinstance(img_path, np.ndarray):\n",
    "            self.img_path = img_path.to_numpy()\n",
    "            self.label_path = label_path.to_numpy()\n",
    "        self.labelProcessor = LabelProcessor()\n",
    "\n",
    "    def __getitem__(self, index):\n",
    "        img = self.img_path[index]\n",
    "        label = self.label_path[index]\n",
    "        # 从文件名中读取数据（图片和标签都是png格式的图像数据）\n",
    "        img = cv2.imread(img)\n",
    "        img = cv2.cvtColor(img, cv2.COLOR_BGR2RGB)\n",
    "        label = cv2.imread(label)\n",
    "        label = cv2.cvtColor(label, cv2.COLOR_BGR2RGB)\n",
    "        # transform\n",
    "        img, label = self.img_transform(img, label)\n",
    "\n",
    "        return {'img': img, 'label': label}\n",
    "\n",
    "    def __len__(self):\n",
    "        return len(self.img_path)\n",
    "\n",
    "    def img_transform(self, img, label):\n",
    "        # 对图片和标签做一些数值处理\n",
    "        transform_img = transforms.Compose([transforms.ToTensor(),  # 转tensor\n",
    "                                            transforms.Normalize((0.485, 0.456, 0.406), (0.229, 0.224, 0.225))])\n",
    "        \n",
    "        img = transform_img(img)\n",
    "        label = self.labelProcessor.encode_label_img(label)\n",
    "        label = torch.from_numpy(label)\n",
    "\n",
    "        return img, label"
   ]
  },
  {
   "cell_type": "code",
   "execution_count": null,
   "metadata": {
    "execution": {
     "iopub.execute_input": "2022-05-07T15:57:40.859813Z",
     "iopub.status.busy": "2022-05-07T15:57:40.859442Z",
     "iopub.status.idle": "2022-05-07T15:57:40.940677Z",
     "shell.execute_reply": "2022-05-07T15:57:40.939908Z",
     "shell.execute_reply.started": "2022-05-07T15:57:40.859773Z"
    },
    "id": "HqXHMk1GUCh4",
    "outputId": "4ddbfa80-6bcf-413f-a82a-7b0dfe8d49b5"
   },
   "outputs": [],
   "source": [
    "a = MRIDataset(data[\"images\"], data[\"masks\"])\n",
    "a[0][\"img\"].shape"
   ]
  },
  {
   "cell_type": "markdown",
   "metadata": {
    "id": "fcr7A0hDab4b"
   },
   "source": [
    "# UNET"
   ]
  },
  {
   "cell_type": "code",
   "execution_count": null,
   "metadata": {
    "execution": {
     "iopub.execute_input": "2022-05-07T15:57:40.942644Z",
     "iopub.status.busy": "2022-05-07T15:57:40.942151Z",
     "iopub.status.idle": "2022-05-07T15:57:40.947492Z",
     "shell.execute_reply": "2022-05-07T15:57:40.946630Z",
     "shell.execute_reply.started": "2022-05-07T15:57:40.942606Z"
    },
    "id": "uwGsRM9XBaca"
   },
   "outputs": [],
   "source": [
    "import ssl\n",
    "ssl._create_default_https_context = ssl._create_unverified_context"
   ]
  },
  {
   "cell_type": "code",
   "execution_count": null,
   "metadata": {
    "execution": {
     "iopub.execute_input": "2022-05-07T15:58:25.073628Z",
     "iopub.status.busy": "2022-05-07T15:58:25.072842Z",
     "iopub.status.idle": "2022-05-07T15:58:33.573482Z",
     "shell.execute_reply": "2022-05-07T15:58:33.572615Z",
     "shell.execute_reply.started": "2022-05-07T15:58:25.073565Z"
    },
    "id": "zSljndIGahFr",
    "outputId": "24e3c9ed-8488-47dd-be67-af5952f28a35"
   },
   "outputs": [],
   "source": [
    "class conv_block(nn.Module):\n",
    "    \"\"\"\n",
    "    Convolution Block \n",
    "    \"\"\"\n",
    "    def __init__(self, in_ch, out_ch):\n",
    "        super(conv_block, self).__init__()\n",
    "        \n",
    "        self.conv = nn.Sequential(\n",
    "            nn.Conv2d(in_ch, out_ch, kernel_size=3, stride=1, padding=1, bias=True),\n",
    "            nn.BatchNorm2d(out_ch),\n",
    "            nn.ReLU(inplace=True),\n",
    "            nn.Conv2d(out_ch, out_ch, kernel_size=3, stride=1, padding=1, bias=True),\n",
    "            nn.BatchNorm2d(out_ch),\n",
    "            nn.ReLU(inplace=True))\n",
    "\n",
    "    def forward(self, x):\n",
    "\n",
    "        x = self.conv(x)\n",
    "        return x\n",
    "\n",
    "\n",
    "class up_conv(nn.Module):\n",
    "    \"\"\"\n",
    "    Up Convolution Block\n",
    "    \"\"\"\n",
    "    def __init__(self, in_ch, out_ch):\n",
    "        super(up_conv, self).__init__()\n",
    "        self.up = nn.Sequential(\n",
    "            nn.Upsample(scale_factor=2),\n",
    "            nn.Conv2d(in_ch, out_ch, kernel_size=3, stride=1, padding=1, bias=True),\n",
    "            nn.BatchNorm2d(out_ch),\n",
    "            nn.ReLU(inplace=True)\n",
    "        )\n",
    "\n",
    "    def forward(self, x):\n",
    "        x = self.up(x)\n",
    "        return x\n",
    "\n",
    "\n",
    "class U_Net(nn.Module):\n",
    "\n",
    "    def __init__(self, in_ch=3, out_ch=1):\n",
    "        super(U_Net, self).__init__()\n",
    "\n",
    "        n1 = 64\n",
    "        filters = [n1, n1 * 2, n1 * 4, n1 * 8, n1 * 16]\n",
    "        \n",
    "        self.Maxpool1 = nn.MaxPool2d(kernel_size=2, stride=2)\n",
    "        self.Maxpool2 = nn.MaxPool2d(kernel_size=2, stride=2)\n",
    "        self.Maxpool3 = nn.MaxPool2d(kernel_size=2, stride=2)\n",
    "        self.Maxpool4 = nn.MaxPool2d(kernel_size=2, stride=2)\n",
    "\n",
    "        self.Conv1 = conv_block(in_ch, filters[0])\n",
    "        self.Conv2 = conv_block(filters[0], filters[1])\n",
    "        self.Conv3 = conv_block(filters[1], filters[2])\n",
    "        self.Conv4 = conv_block(filters[2], filters[3])\n",
    "        self.Conv5 = conv_block(filters[3], filters[4])\n",
    "\n",
    "        self.Up5 = up_conv(filters[4], filters[3])\n",
    "        self.Up_conv5 = conv_block(filters[4], filters[3])\n",
    "\n",
    "        self.Up4 = up_conv(filters[3], filters[2])\n",
    "        self.Up_conv4 = conv_block(filters[3], filters[2])\n",
    "\n",
    "        self.Up3 = up_conv(filters[2], filters[1])\n",
    "        self.Up_conv3 = conv_block(filters[2], filters[1])\n",
    "\n",
    "        self.Up2 = up_conv(filters[1], filters[0])\n",
    "        self.Up_conv2 = conv_block(filters[1], filters[0])\n",
    "\n",
    "        self.Conv = nn.Conv2d(filters[0], out_ch, kernel_size=1, stride=1, padding=0)\n",
    "\n",
    "       # self.active = torch.nn.Sigmoid()\n",
    "\n",
    "    def forward(self, x):\n",
    "\n",
    "        e1 = self.Conv1(x)\n",
    "\n",
    "        e2 = self.Maxpool1(e1)\n",
    "        e2 = self.Conv2(e2)\n",
    "\n",
    "        e3 = self.Maxpool2(e2)\n",
    "        e3 = self.Conv3(e3)\n",
    "\n",
    "        e4 = self.Maxpool3(e3)\n",
    "        e4 = self.Conv4(e4)\n",
    "\n",
    "        e5 = self.Maxpool4(e4)\n",
    "        e5 = self.Conv5(e5)\n",
    "\n",
    "        d5 = self.Up5(e5)\n",
    "        d5 = torch.cat((e4, d5), dim=1)\n",
    "\n",
    "        d5 = self.Up_conv5(d5)\n",
    "\n",
    "        d4 = self.Up4(d5)\n",
    "        d4 = torch.cat((e3, d4), dim=1)\n",
    "        d4 = self.Up_conv4(d4)\n",
    "\n",
    "        d3 = self.Up3(d4)\n",
    "        d3 = torch.cat((e2, d3), dim=1)\n",
    "        d3 = self.Up_conv3(d3)\n",
    "\n",
    "        d2 = self.Up2(d3)\n",
    "        d2 = torch.cat((e1, d2), dim=1)\n",
    "        d2 = self.Up_conv2(d2)\n",
    "\n",
    "        out = self.Conv(d2)\n",
    "\n",
    "        #d1 = self.active(out)\n",
    "\n",
    "        return out\n",
    "\n",
    "\n",
    "from torchsummary import summary\n",
    "\n",
    "\n",
    "if __name__ == \"__main__\":\n",
    "    import torch as t\n",
    "    device = t.device('cuda') if t.cuda.is_available() else t.device('cpu')\n",
    "    rgb = t.randn(1, 3, 256, 256).to(device)\n",
    "\n",
    "    net = U_Net(3, 2).to(device)\n",
    "\n",
    "    out = net(rgb)\n",
    "\n",
    "    summary(net,(3,256,256))"
   ]
  },
  {
   "cell_type": "markdown",
   "metadata": {
    "id": "jRgro6DBbyNQ"
   },
   "source": [
    "# evaluation"
   ]
  },
  {
   "cell_type": "code",
   "execution_count": null,
   "metadata": {
    "execution": {
     "iopub.execute_input": "2022-05-07T14:56:01.196645Z",
     "iopub.status.busy": "2022-05-07T14:56:01.196379Z",
     "iopub.status.idle": "2022-05-07T14:56:01.200836Z",
     "shell.execute_reply": "2022-05-07T14:56:01.199940Z",
     "shell.execute_reply.started": "2022-05-07T14:56:01.196610Z"
    }
   },
   "outputs": [],
   "source": [
    "a,b= np.array([1,2,3,4]).reshape(2,2)"
   ]
  },
  {
   "cell_type": "code",
   "execution_count": null,
   "metadata": {
    "execution": {
     "iopub.execute_input": "2022-05-07T14:56:01.202607Z",
     "iopub.status.busy": "2022-05-07T14:56:01.202173Z",
     "iopub.status.idle": "2022-05-07T14:56:01.209998Z",
     "shell.execute_reply": "2022-05-07T14:56:01.209241Z",
     "shell.execute_reply.started": "2022-05-07T14:56:01.202568Z"
    }
   },
   "outputs": [],
   "source": [
    "y,u = a"
   ]
  },
  {
   "cell_type": "code",
   "execution_count": null,
   "metadata": {
    "execution": {
     "iopub.execute_input": "2022-05-07T14:56:01.211498Z",
     "iopub.status.busy": "2022-05-07T14:56:01.211087Z",
     "iopub.status.idle": "2022-05-07T14:56:01.223255Z",
     "shell.execute_reply": "2022-05-07T14:56:01.222586Z",
     "shell.execute_reply.started": "2022-05-07T14:56:01.211462Z"
    }
   },
   "outputs": [],
   "source": [
    "confusion_matrix([0, 1, 0, 1], [1, 1, 1, 0])"
   ]
  },
  {
   "cell_type": "code",
   "execution_count": null,
   "metadata": {
    "execution": {
     "iopub.execute_input": "2022-05-07T15:58:44.757950Z",
     "iopub.status.busy": "2022-05-07T15:58:44.757677Z",
     "iopub.status.idle": "2022-05-07T15:58:44.769945Z",
     "shell.execute_reply": "2022-05-07T15:58:44.768858Z",
     "shell.execute_reply.started": "2022-05-07T15:58:44.757919Z"
    },
    "id": "hDbDd0CgcWRn"
   },
   "outputs": [],
   "source": [
    "from __future__ import division\n",
    "from sklearn.metrics import confusion_matrix\n",
    "import numpy as np\n",
    "import six\n",
    "\n",
    "\n",
    "def calc_semantic_segmentation_confusion(pred_labels, gt_labels):\n",
    "    pred_labels = pred_labels.flatten()\n",
    "    gt_labels = gt_labels.flatten()\n",
    "    confusion = confusion_matrix(gt_labels, pred_labels)\n",
    "    if len(confusion)!= 2:\n",
    "        confusion =  np.array([confusion[0][0],0,0,0]).reshape(2,2)\n",
    "    return confusion\n",
    "\n",
    "\n",
    "def calc_semantic_segmentation_iou(confusion):\n",
    "    intersection = np.diag(confusion)\n",
    "    union = np.sum(confusion, axis=1) + np.sum(confusion, axis=0) - np.diag(confusion)\n",
    "    Ciou = (intersection / (np.maximum(1.0, union)+  1e-10) )\n",
    "    mIoU = np.nanmean(Ciou)\n",
    "    return mIoU\n",
    "\n",
    "def calc_semantic_segmentation_dice(confusion):\n",
    "    a, b = confusion\n",
    "    tn, fp = a\n",
    "    fn, tp = b\n",
    "    return np.nanmean(2*tp/(2*tp + fn + fp+  1e-10))\n",
    "\n",
    "def eval_semantic_segmentation(pred_labels, gt_labels):\n",
    "    confusion = calc_semantic_segmentation_confusion(pred_labels, gt_labels)\n",
    "    mIoU = calc_semantic_segmentation_iou(confusion) \n",
    "    pixel_accuracy = np.nanmean(np.diag(confusion) / (confusion.sum(axis=1)+1e-10))\n",
    "    class_accuracy = np.diag(confusion) / ( confusion.sum(axis=1) +  1e-10 )\n",
    "    dice = calc_semantic_segmentation_dice(confusion)\n",
    "\n",
    "    return {'miou': mIoU,\n",
    "            'pixel_accuracy': pixel_accuracy,\n",
    "            'class_accuracy': class_accuracy,\n",
    "            'dice': dice}"
   ]
  },
  {
   "cell_type": "code",
   "execution_count": null,
   "metadata": {
    "execution": {
     "iopub.execute_input": "2022-05-07T15:59:56.811996Z",
     "iopub.status.busy": "2022-05-07T15:59:56.811269Z",
     "iopub.status.idle": "2022-05-07T15:59:57.366557Z",
     "shell.execute_reply": "2022-05-07T15:59:57.365789Z",
     "shell.execute_reply.started": "2022-05-07T15:59:56.811960Z"
    },
    "id": "1QXNuOa9oHRX",
    "outputId": "17e589c4-914d-4f5c-f8f9-30807abb4ea5"
   },
   "outputs": [],
   "source": [
    "rgb = t.randn(1, 3, 64, 64)\n",
    "net =  U_Net(3,2)\n",
    "out = net(rgb)\n",
    "print(out.shape)"
   ]
  },
  {
   "cell_type": "code",
   "execution_count": null,
   "metadata": {
    "execution": {
     "iopub.execute_input": "2022-05-07T15:59:58.730022Z",
     "iopub.status.busy": "2022-05-07T15:59:58.729425Z",
     "iopub.status.idle": "2022-05-07T15:59:58.742732Z",
     "shell.execute_reply": "2022-05-07T15:59:58.741817Z",
     "shell.execute_reply.started": "2022-05-07T15:59:58.729984Z"
    },
    "id": "FtQGW0BIoI8N"
   },
   "outputs": [],
   "source": [
    "out = F.log_softmax(out, dim=1)\n",
    "out = out.max(dim=1)[1].data.cpu().numpy()\n",
    "true_label = torch.randint(0,2,(1,64,64)).numpy()"
   ]
  },
  {
   "cell_type": "code",
   "execution_count": null,
   "metadata": {
    "execution": {
     "iopub.execute_input": "2022-05-07T16:00:00.410970Z",
     "iopub.status.busy": "2022-05-07T16:00:00.410381Z",
     "iopub.status.idle": "2022-05-07T16:00:00.422534Z",
     "shell.execute_reply": "2022-05-07T16:00:00.421434Z",
     "shell.execute_reply.started": "2022-05-07T16:00:00.410934Z"
    },
    "id": "CTc9oCQnpY7B",
    "outputId": "72677d5e-6ba0-4289-89bb-7bc3d2b2f1db"
   },
   "outputs": [],
   "source": [
    "eval_semantic_segmentation(out,true_label)"
   ]
  },
  {
   "cell_type": "markdown",
   "metadata": {
    "id": "4-AkFLuDgMA5"
   },
   "source": [
    "# train"
   ]
  },
  {
   "cell_type": "code",
   "execution_count": null,
   "metadata": {
    "execution": {
     "iopub.execute_input": "2022-05-07T16:00:33.913350Z",
     "iopub.status.busy": "2022-05-07T16:00:33.913060Z",
     "iopub.status.idle": "2022-05-07T16:00:33.925961Z",
     "shell.execute_reply": "2022-05-07T16:00:33.924935Z",
     "shell.execute_reply.started": "2022-05-07T16:00:33.913317Z"
    },
    "id": "JxP16rSHuTHG"
   },
   "outputs": [],
   "source": [
    "# 测试训练分割\n",
    "\n",
    "from sklearn.model_selection import train_test_split\n",
    "\n",
    "train, test = train_test_split(data,test_size=0.2, shuffle=True, random_state=233)\n",
    "\n",
    "device = t.device('cuda') if t.cuda.is_available() else t.device('cpu')\n",
    "num_class = 2\n",
    "\n",
    "Load_train = MRIDataset(train[\"images\"], train[\"masks\"])\n",
    "Load_val= MRIDataset(test[\"images\"], test[\"masks\"])\n",
    "\n",
    "train_data = DataLoader(Load_train, batch_size=4, shuffle=True, num_workers=1)\n",
    "val_data = DataLoader(Load_val, batch_size=4, shuffle=True, num_workers=1)"
   ]
  },
  {
   "cell_type": "code",
   "execution_count": null,
   "metadata": {
    "execution": {
     "iopub.execute_input": "2022-05-07T16:04:00.620642Z",
     "iopub.status.busy": "2022-05-07T16:04:00.619960Z",
     "iopub.status.idle": "2022-05-07T16:04:00.952554Z",
     "shell.execute_reply": "2022-05-07T16:04:00.951745Z",
     "shell.execute_reply.started": "2022-05-07T16:04:00.620587Z"
    },
    "id": "X9uyeEiuxJwY"
   },
   "outputs": [],
   "source": [
    "unet =  U_Net(3,2)\n",
    "unet = unet.to(device)\n",
    "criterion = nn.NLLLoss().to(device)\n",
    "optimizer = optim.Adam(unet.parameters(), lr=1e-4)"
   ]
  },
  {
   "cell_type": "code",
   "execution_count": null,
   "metadata": {
    "execution": {
     "iopub.execute_input": "2022-05-07T16:04:02.411526Z",
     "iopub.status.busy": "2022-05-07T16:04:02.410743Z",
     "iopub.status.idle": "2022-05-07T16:04:02.422276Z",
     "shell.execute_reply": "2022-05-07T16:04:02.421208Z",
     "shell.execute_reply.started": "2022-05-07T16:04:02.411485Z"
    }
   },
   "outputs": [],
   "source": [
    "def evaluate(model):\n",
    "    model = model.eval()\n",
    "    num_class = 2\n",
    "    eval_loss = 0\n",
    "    eval_acc = 0\n",
    "    eval_miou = 0\n",
    "    eval_class_acc = 0\n",
    "    eval_dice = 0\n",
    "    error = 0\n",
    "\n",
    "    for j, sample in enumerate(val_data):\n",
    "        valImg = sample['img'].to(device)\n",
    "        valLabel = sample['label'].long().to(device)\n",
    "        \n",
    "        out = model(valImg)\n",
    "        out = F.log_softmax(out, dim=1)\n",
    "        loss = criterion(out, valLabel)\n",
    "        eval_loss = loss.item() + eval_loss\n",
    "        \n",
    "        # 评估\n",
    "        pre_label = out.max(dim=1)[1].data.cpu().numpy()\n",
    "        true_label = valLabel.data.cpu().numpy()\n",
    "        eval_metrics = eval_semantic_segmentation(pre_label, true_label)\n",
    "        eval_acc = eval_metrics['pixel_accuracy'] + eval_acc\n",
    "        eval_miou = eval_metrics['miou'] + eval_miou\n",
    "\n",
    "        eval_class_acc =  eval_metrics['class_accuracy'] + eval_class_acc\n",
    "        eval_dice = eval_metrics['dice'] + eval_dice\n",
    "\n",
    "    val_str = '|val Acc|: {:.5f}\\n|val dice|: {:.5f}\\n|val Mean IoU|: {:.5f}\\n|val_class_acc|: {:}'.format(\n",
    "        eval_acc / len(val_data),\n",
    "        eval_dice / len(val_data),\n",
    "        eval_miou / len(val_data),\n",
    "        eval_class_acc / (len(val_data)-error))\n",
    "    print(val_str)\n",
    "    \n",
    "    return eval_acc / len(val_data), eval_dice / len(val_data), eval_miou / len(val_data), eval_class_acc / (len(val_data)-error)"
   ]
  },
  {
   "cell_type": "code",
   "execution_count": null,
   "metadata": {
    "execution": {
     "iopub.execute_input": "2022-05-07T16:04:03.358660Z",
     "iopub.status.busy": "2022-05-07T16:04:03.358178Z",
     "iopub.status.idle": "2022-05-07T17:36:37.402511Z",
     "shell.execute_reply": "2022-05-07T17:36:37.401595Z",
     "shell.execute_reply.started": "2022-05-07T16:04:03.358624Z"
    },
    "id": "7V0yh0lUxcAS",
    "outputId": "5c87aeec-6068-4849-f552-94106169234c"
   },
   "outputs": [],
   "source": [
    "net = unet.train()\n",
    "\n",
    "best = [0]\n",
    "Epoch = 30\n",
    "train_acc_epoch = []\n",
    "train_miou_epoch = []\n",
    "train_dice_epoch = []\n",
    "train_class_acc_epoch = []\n",
    "\n",
    "test_acc_epoch = []\n",
    "test_miou_epoch = []\n",
    "test_dice_epoch = []\n",
    "test_class_acc_epoch = []\n",
    "\n",
    "# 训练轮次\n",
    "for epoch in range(Epoch):\n",
    "    \n",
    "    train_loss = 0\n",
    "    train_acc = 0\n",
    "    train_miou = 0\n",
    "    train_dice = 0\n",
    "    train_class_acc = 0\n",
    "    error = 0\n",
    "    print('Epoch is [{}/{}]'.format(epoch + 1, Epoch))\n",
    "\n",
    "    # 训练批次\n",
    "    for i, sample in enumerate(train_data):\n",
    "        # 载入数据\n",
    "        img_data = sample['img'].to(device)\n",
    "        img_label = sample['label'].to(device)\n",
    "        # 训练\n",
    "        out = net(img_data)\n",
    "        out = F.log_softmax(out, dim=1)\n",
    "        loss = criterion(out, img_label)\n",
    "        optimizer.zero_grad()\n",
    "        loss.backward()\n",
    "        optimizer.step()\n",
    "        train_loss += loss.item()\n",
    "        # 评估\n",
    "        pre_label = out.max(dim=1)[1].data.cpu().numpy()\n",
    "        true_label = img_label.data.cpu().numpy()\n",
    "        eval_metrix = eval_semantic_segmentation(pre_label, true_label)\n",
    "        train_acc += eval_metrix['pixel_accuracy']\n",
    "        train_miou += eval_metrix['miou']\n",
    "        if len(eval_metrix['class_accuracy']) < num_class:\n",
    "            eval_metrix['class_accuracy'] = 0\n",
    "            train_class_acc = train_class_acc + eval_metrix['class_accuracy']\n",
    "            error += 1\n",
    "        else:\n",
    "            train_class_acc = train_class_acc + eval_metrix['class_accuracy']\n",
    "        train_dice += eval_metrix['dice']\n",
    "        # 打印每50次\n",
    "        if i%500 ==0:\n",
    "            print('|batch[{}/{}]|batch_loss:{:.9f}|'.format(i + 1, len(train_data), loss.item()))\n",
    "\n",
    "    metric_description = '|Train Acc|: {:.5f}\\n|Train dice|: {:.5f}\\n|Train Mean IoU|: {:.5f}\\n|Train_class_acc|: {:}'.format(\n",
    "        train_acc / len(train_data),\n",
    "        train_dice / len(train_data),\n",
    "        train_miou / len(train_data),\n",
    "        train_class_acc / (len(train_data)-error))\n",
    "\n",
    "\n",
    "    print(metric_description)\n",
    "    print(\"-----------------\")\n",
    "    test_acc, test_dice, test_miou, test_class_acc = evaluate(net)\n",
    "    print(\"-----------------\")\n",
    "    \n",
    "    test_acc_epoch.append(test_acc)\n",
    "    test_miou_epoch.append(test_miou)\n",
    "    test_dice_epoch.append(test_dice)\n",
    "    test_class_acc_epoch.append(test_class_acc)\n",
    "\n",
    "    train_acc_epoch.append(train_acc / len(train_data))\n",
    "    train_miou_epoch.append(train_miou / len(train_data))\n",
    "    train_dice_epoch.append(train_dice / len(train_data))\n",
    "    train_class_acc_epoch.append(list(train_class_acc / (len(train_data)-error)))\n",
    "\n",
    "    # 储存模型\n",
    "    if max(best) <= test_dice:\n",
    "        best.append(test_dice)\n",
    "        t.save(net.state_dict(), './{}.pth'.format(epoch))\n",
    "        \n"
   ]
  },
  {
   "cell_type": "code",
   "execution_count": null,
   "metadata": {
    "execution": {
     "iopub.execute_input": "2022-05-07T17:37:31.981439Z",
     "iopub.status.busy": "2022-05-07T17:37:31.980918Z",
     "iopub.status.idle": "2022-05-07T17:37:31.987834Z",
     "shell.execute_reply": "2022-05-07T17:37:31.986936Z",
     "shell.execute_reply.started": "2022-05-07T17:37:31.981397Z"
    },
    "id": "tvPBJ-QUYki3",
    "outputId": "ebb9a1c5-ec5e-47e8-d84a-af2d2a1b7c72"
   },
   "outputs": [],
   "source": [
    "len(train_class_acc_epoch)"
   ]
  },
  {
   "cell_type": "code",
   "execution_count": null,
   "metadata": {
    "execution": {
     "iopub.execute_input": "2022-05-07T15:44:03.887661Z",
     "iopub.status.busy": "2022-05-07T15:44:03.886922Z",
     "iopub.status.idle": "2022-05-07T15:44:03.893930Z",
     "shell.execute_reply": "2022-05-07T15:44:03.893064Z",
     "shell.execute_reply.started": "2022-05-07T15:44:03.887613Z"
    }
   },
   "outputs": [],
   "source": [
    "test_dice_epoch"
   ]
  },
  {
   "cell_type": "markdown",
   "metadata": {
    "id": "1EjMTNYGHozY"
   },
   "source": [
    "# validation"
   ]
  },
  {
   "cell_type": "code",
   "execution_count": null,
   "metadata": {
    "execution": {
     "iopub.execute_input": "2022-05-07T17:49:27.626582Z",
     "iopub.status.busy": "2022-05-07T17:49:27.625885Z",
     "iopub.status.idle": "2022-05-07T17:49:27.631014Z",
     "shell.execute_reply": "2022-05-07T17:49:27.630010Z",
     "shell.execute_reply.started": "2022-05-07T17:49:27.626544Z"
    },
    "id": "zT-bXv-RM2xE"
   },
   "outputs": [],
   "source": [
    "device = t.device('cuda') if t.cuda.is_available() else t.device('cpu')\n",
    "\n",
    "BATCH_SIZE = 4\n"
   ]
  },
  {
   "cell_type": "code",
   "execution_count": null,
   "metadata": {
    "execution": {
     "iopub.execute_input": "2022-05-07T17:49:27.864936Z",
     "iopub.status.busy": "2022-05-07T17:49:27.863835Z",
     "iopub.status.idle": "2022-05-07T17:49:27.872833Z",
     "shell.execute_reply": "2022-05-07T17:49:27.871775Z",
     "shell.execute_reply.started": "2022-05-07T17:49:27.864892Z"
    },
    "id": "V8Z-Xv22FWcO",
    "outputId": "16f9518e-9ef3-4a20-954a-79243fce3b74"
   },
   "outputs": [],
   "source": [
    "val_data"
   ]
  },
  {
   "cell_type": "code",
   "execution_count": null,
   "metadata": {
    "execution": {
     "iopub.execute_input": "2022-05-07T17:49:45.543884Z",
     "iopub.status.busy": "2022-05-07T17:49:45.543552Z",
     "iopub.status.idle": "2022-05-07T17:49:45.961670Z",
     "shell.execute_reply": "2022-05-07T17:49:45.960816Z",
     "shell.execute_reply.started": "2022-05-07T17:49:45.543836Z"
    },
    "id": "SB9Ct3NK28Zw",
    "outputId": "efb410eb-f921-4f90-efa7-375c1ae2f6dd"
   },
   "outputs": [],
   "source": [
    "net = U_Net(3,2)\n",
    "net.to(device)\n",
    "net.load_state_dict(torch.load('27.pth'))"
   ]
  },
  {
   "cell_type": "code",
   "execution_count": null,
   "metadata": {
    "execution": {
     "iopub.execute_input": "2022-05-07T17:49:45.963758Z",
     "iopub.status.busy": "2022-05-07T17:49:45.963498Z",
     "iopub.status.idle": "2022-05-07T17:49:45.968434Z",
     "shell.execute_reply": "2022-05-07T17:49:45.967499Z",
     "shell.execute_reply.started": "2022-05-07T17:49:45.963722Z"
    },
    "id": "O3dz79G1DP5R"
   },
   "outputs": [],
   "source": [
    "train_acc = 0\n",
    "train_miou = 0\n",
    "train_class_acc = 0\n",
    "train_mpa = 0\n",
    "error = 0"
   ]
  },
  {
   "cell_type": "code",
   "execution_count": null,
   "metadata": {
    "execution": {
     "iopub.execute_input": "2022-05-07T17:49:45.971005Z",
     "iopub.status.busy": "2022-05-07T17:49:45.969767Z",
     "iopub.status.idle": "2022-05-07T17:49:45.981560Z",
     "shell.execute_reply": "2022-05-07T17:49:45.980835Z",
     "shell.execute_reply.started": "2022-05-07T17:49:45.970968Z"
    },
    "id": "oN-VQgNZN1EO"
   },
   "outputs": [],
   "source": [
    "def evaluate(model):\n",
    "    net = model.eval()\n",
    "    num_class = 2\n",
    "    eval_loss = 0\n",
    "    eval_acc = 0\n",
    "    eval_miou = 0\n",
    "    eval_class_acc = 0\n",
    "    eval_dice = 0\n",
    "    error = 0\n",
    "\n",
    "    for j, sample in enumerate(val_data):\n",
    "        valImg = sample['img'].to(device)\n",
    "        valLabel = sample['label'].long().to(device)\n",
    "        \n",
    "        out = net(valImg)\n",
    "        out = F.log_softmax(out, dim=1)\n",
    "        loss = criterion(out, valLabel)\n",
    "        eval_loss = loss.item() + eval_loss\n",
    "        \n",
    "        # 评估\n",
    "        pre_label = out.max(dim=1)[1].data.cpu().numpy()\n",
    "        true_label = valLabel.data.cpu().numpy()\n",
    "        eval_metrics = eval_semantic_segmentation(pre_label, true_label)\n",
    "        eval_acc = eval_metrics['pixel_accuracy'] + eval_acc\n",
    "        eval_miou = eval_metrics['miou'] + eval_miou\n",
    "\n",
    "        eval_class_acc =  eval_metrics['class_accuracy'] + eval_class_acc\n",
    "        eval_dice = eval_metrics['dice'] + eval_dice\n",
    "\n",
    "    val_str = '|val Acc|: {:.5f}\\n|val dice|: {:.5f}\\n|val Mean IoU|: {:.5f}\\n|val_class_acc|: {:}'.format(\n",
    "        eval_acc / len(val_data),\n",
    "        eval_dice / len(val_data),\n",
    "        eval_miou / len(val_data),\n",
    "        eval_class_acc / (len(val_data)-error))\n",
    "    print(val_str)"
   ]
  },
  {
   "cell_type": "code",
   "execution_count": null,
   "metadata": {
    "execution": {
     "iopub.execute_input": "2022-05-07T17:49:46.044441Z",
     "iopub.status.busy": "2022-05-07T17:49:46.044252Z",
     "iopub.status.idle": "2022-05-07T17:49:46.485759Z",
     "shell.execute_reply": "2022-05-07T17:49:46.484310Z",
     "shell.execute_reply.started": "2022-05-07T17:49:46.044417Z"
    },
    "id": "oIfLQXC2T3Tj",
    "outputId": "375cd35e-42c8-4bb2-bfcc-b34cebe91621"
   },
   "outputs": [],
   "source": [
    "evaluate(net)"
   ]
  },
  {
   "cell_type": "markdown",
   "metadata": {
    "id": "4NYNfh6UUAud"
   },
   "source": [
    "# predict"
   ]
  },
  {
   "cell_type": "code",
   "execution_count": null,
   "metadata": {
    "execution": {
     "iopub.execute_input": "2022-05-07T17:49:46.488521Z",
     "iopub.status.busy": "2022-05-07T17:49:46.488251Z",
     "iopub.status.idle": "2022-05-07T17:49:46.493489Z",
     "shell.execute_reply": "2022-05-07T17:49:46.492767Z",
     "shell.execute_reply.started": "2022-05-07T17:49:46.488484Z"
    },
    "id": "aMyZgjJkU4iU"
   },
   "outputs": [],
   "source": [
    "colormap = []\n",
    "colormap.append([0,0,0])\n",
    "colormap.append([255,255,255])\n",
    "cm = np.array(colormap).astype('uint8')"
   ]
  },
  {
   "cell_type": "code",
   "execution_count": null,
   "metadata": {
    "execution": {
     "iopub.execute_input": "2022-05-07T17:50:12.165710Z",
     "iopub.status.busy": "2022-05-07T17:50:12.165300Z",
     "iopub.status.idle": "2022-05-07T17:50:12.175498Z",
     "shell.execute_reply": "2022-05-07T17:50:12.174668Z",
     "shell.execute_reply.started": "2022-05-07T17:50:12.165675Z"
    },
    "id": "VLBdljGUfflG"
   },
   "outputs": [],
   "source": [
    "test_img = test[\"images\"].to_numpy()[22:32]\n",
    "test_label = test[\"masks\"].to_numpy()[22:32]\n",
    "pd_aa = pd.DataFrame({'images':test_img,'masks':test_label})\n",
    "Load_val= MRIDataset(pd_aa['images'], pd_aa['masks'])\n",
    "val_data = DataLoader(Load_val, batch_size=10, shuffle=False, num_workers=1)"
   ]
  },
  {
   "cell_type": "code",
   "execution_count": null,
   "metadata": {
    "execution": {
     "iopub.execute_input": "2022-05-07T17:50:12.292515Z",
     "iopub.status.busy": "2022-05-07T17:50:12.291970Z",
     "iopub.status.idle": "2022-05-07T17:50:12.446787Z",
     "shell.execute_reply": "2022-05-07T17:50:12.445358Z",
     "shell.execute_reply.started": "2022-05-07T17:50:12.292482Z"
    },
    "id": "mec9neBVV7rL"
   },
   "outputs": [],
   "source": [
    "smaples = iter(val_data)\n",
    "sample = smaples.next()"
   ]
  },
  {
   "cell_type": "code",
   "execution_count": null,
   "metadata": {
    "execution": {
     "iopub.execute_input": "2022-05-07T17:50:12.490010Z",
     "iopub.status.busy": "2022-05-07T17:50:12.489691Z",
     "iopub.status.idle": "2022-05-07T17:50:12.518091Z",
     "shell.execute_reply": "2022-05-07T17:50:12.517239Z",
     "shell.execute_reply.started": "2022-05-07T17:50:12.489972Z"
    },
    "id": "Lnz_pbrUWe8m",
    "outputId": "a98b7d1c-5c02-4512-8422-c68110ad9cdb"
   },
   "outputs": [],
   "source": [
    "np.unique(sample[\"label\"])"
   ]
  },
  {
   "cell_type": "code",
   "execution_count": null,
   "metadata": {
    "execution": {
     "iopub.execute_input": "2022-05-07T17:50:12.694594Z",
     "iopub.status.busy": "2022-05-07T17:50:12.694023Z",
     "iopub.status.idle": "2022-05-07T17:50:12.700458Z",
     "shell.execute_reply": "2022-05-07T17:50:12.699617Z",
     "shell.execute_reply.started": "2022-05-07T17:50:12.694548Z"
    },
    "id": "qpCl9AvsWEPQ",
    "outputId": "7725e9f5-6944-4bf3-bc46-36961e935877"
   },
   "outputs": [],
   "source": [
    "sample[\"img\"].shape"
   ]
  },
  {
   "cell_type": "code",
   "execution_count": null,
   "metadata": {
    "execution": {
     "iopub.execute_input": "2022-05-07T17:50:13.043823Z",
     "iopub.status.busy": "2022-05-07T17:50:13.043158Z",
     "iopub.status.idle": "2022-05-07T17:50:13.210103Z",
     "shell.execute_reply": "2022-05-07T17:50:13.209369Z",
     "shell.execute_reply.started": "2022-05-07T17:50:13.043785Z"
    },
    "id": "4ulIlLBYVzkq"
   },
   "outputs": [],
   "source": [
    "valImg = sample['img'].to(device)\n",
    "valLabel = sample['label'].long().to(device)\n",
    "out = net(valImg)\n",
    "out = F.log_softmax(out, dim=1)\n",
    "pre_label = out.max(1)[1].squeeze().cpu().data.numpy()\n",
    "pre = cm[pre_label]"
   ]
  },
  {
   "cell_type": "code",
   "execution_count": null,
   "metadata": {
    "execution": {
     "iopub.execute_input": "2022-05-07T17:50:13.211701Z",
     "iopub.status.busy": "2022-05-07T17:50:13.211472Z",
     "iopub.status.idle": "2022-05-07T17:50:13.231195Z",
     "shell.execute_reply": "2022-05-07T17:50:13.230535Z",
     "shell.execute_reply.started": "2022-05-07T17:50:13.211671Z"
    },
    "id": "P6n4j8tXjot9",
    "outputId": "03c5de57-b85f-4f82-cfb5-c9e24db7cc48"
   },
   "outputs": [],
   "source": [
    "true_pic = cm[sample[\"label\"]]\n",
    "true_pic.shape"
   ]
  },
  {
   "cell_type": "code",
   "execution_count": null,
   "metadata": {
    "execution": {
     "iopub.execute_input": "2022-05-07T17:50:13.676432Z",
     "iopub.status.busy": "2022-05-07T17:50:13.676198Z",
     "iopub.status.idle": "2022-05-07T17:50:20.866356Z",
     "shell.execute_reply": "2022-05-07T17:50:20.865682Z",
     "shell.execute_reply.started": "2022-05-07T17:50:13.676404Z"
    },
    "id": "5HBIMZ-SaaoO",
    "outputId": "c73182f1-1f8b-4260-ab50-b3c828f04edc"
   },
   "outputs": [],
   "source": [
    "for N in range(10):\n",
    "    plt.figure(figsize=(20,20))\n",
    "    plt.subplot(1,4,1)\n",
    "    img=cv2.imread(test_img[N])\n",
    "    plt.title(\"original\")\n",
    "    plt.imshow(img)\n",
    "    plt.subplot(1,4,2)\n",
    "    plt.title(\"true\")\n",
    "    plt.imshow(true_pic[N])\n",
    "    plt.subplot(1,4,3)\n",
    "    plt.title(\"predict\")\n",
    "    plt.imshow(pre[N])\n",
    "    plt.subplot(1,4,4)\n",
    "    plt.title(\"ture&predict\")\n",
    "    plt.imshow(true_pic[N])\n",
    "    plt.imshow(pre[N],alpha=0.4,cmap=\"jet\")"
   ]
  },
  {
   "cell_type": "code",
   "execution_count": null,
   "metadata": {},
   "outputs": [],
   "source": []
  }
 ],
 "metadata": {
  "kernelspec": {
   "display_name": "Python 3",
   "language": "python",
   "name": "python3"
  },
  "language_info": {
   "codemirror_mode": {
    "name": "ipython",
    "version": 3
   },
   "file_extension": ".py",
   "mimetype": "text/x-python",
   "name": "python",
   "nbconvert_exporter": "python",
   "pygments_lexer": "ipython3",
   "version": "3.7.3"
  },
  "toc": {
   "base_numbering": 1,
   "nav_menu": {},
   "number_sections": true,
   "sideBar": true,
   "skip_h1_title": false,
   "title_cell": "Table of Contents",
   "title_sidebar": "Contents",
   "toc_cell": false,
   "toc_position": {},
   "toc_section_display": true,
   "toc_window_display": false
  },
  "varInspector": {
   "cols": {
    "lenName": 16,
    "lenType": 16,
    "lenVar": 40
   },
   "kernels_config": {
    "python": {
     "delete_cmd_postfix": "",
     "delete_cmd_prefix": "del ",
     "library": "var_list.py",
     "varRefreshCmd": "print(var_dic_list())"
    },
    "r": {
     "delete_cmd_postfix": ") ",
     "delete_cmd_prefix": "rm(",
     "library": "var_list.r",
     "varRefreshCmd": "cat(var_dic_list()) "
    }
   },
   "types_to_exclude": [
    "module",
    "function",
    "builtin_function_or_method",
    "instance",
    "_Feature"
   ],
   "window_display": false
  }
 },
 "nbformat": 4,
 "nbformat_minor": 4
}
